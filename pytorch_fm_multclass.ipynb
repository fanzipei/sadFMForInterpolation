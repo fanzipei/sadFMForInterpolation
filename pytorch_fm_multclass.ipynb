{
 "cells": [
  {
   "cell_type": "code",
   "execution_count": 1,
   "metadata": {},
   "outputs": [],
   "source": [
    "import torch\n",
    "import torch.nn as nn"
   ]
  },
  {
   "cell_type": "code",
   "execution_count": 2,
   "metadata": {},
   "outputs": [],
   "source": [
    "import pickle as pk"
   ]
  },
  {
   "cell_type": "code",
   "execution_count": 3,
   "metadata": {},
   "outputs": [],
   "source": [
    "class DeepFM(nn.Module):\n",
    "    \n",
    "    def __init__(self, num_of_users, num_of_times, num_of_locs, rank=8, latent_dim=64):\n",
    "        \n",
    "        super(DeepFM, self).__init__()\n",
    "        \n",
    "        self.num_of_users = num_of_users\n",
    "        self.num_of_times = num_of_times\n",
    "        self.num_of_locs = num_of_locs\n",
    "        self.rank = rank\n",
    "        self.latent_dim = latent_dim\n",
    "        \n",
    "        self.user_embedding = nn.Embedding(num_of_users, rank * latent_dim)\n",
    "        self.time_embedding = nn.Embedding(num_of_times, rank * latent_dim)\n",
    "        \n",
    "        self.user_linear_weights = nn.Embedding(num_of_users, latent_dim)\n",
    "        self.time_linear_weights = nn.Embedding(num_of_times, latent_dim)\n",
    "        \n",
    "        self.output_softmax = nn.Sequential(\n",
    "            nn.Linear(latent_dim, (latent_dim + num_of_locs) // 2),\n",
    "            nn.LeakyReLU(),\n",
    "            nn.Linear((latent_dim + num_of_locs) // 2, num_of_locs),\n",
    "        )\n",
    "        \n",
    "        self.criteria = nn.CrossEntropyLoss(reduction='sum')\n",
    "        \n",
    "    def predict(self, x_u, x_t):\n",
    "        embed_u = self.user_embedding(x_u).view(-1, 1, self.rank)\n",
    "        embed_t = self.time_embedding(x_t).view(-1, self.rank, 1)\n",
    "        interact_term = torch.bmm(embed_u, embed_t).view(-1, self.latent_dim)\n",
    "        linear_term = self.user_linear_weights(x_u) + self.time_linear_weights(x_t)\n",
    "        return self.output_softmax(interact_term + linear_term)\n",
    "    \n",
    "    def predict_prob(self, x_u, x_t):\n",
    "        return nn.functional.softmax(self.predict(x_u, x_t), dim=-1)\n",
    "        \n",
    "    def forward(self, x_u, x_t, y_l):\n",
    "        return self.criteria(self.predict(x_u, x_t), y_l)"
   ]
  },
  {
   "cell_type": "code",
   "execution_count": 4,
   "metadata": {},
   "outputs": [],
   "source": [
    "data = pk.load(open('./data_numpy.pk', 'rb'))"
   ]
  },
  {
   "cell_type": "code",
   "execution_count": 5,
   "metadata": {},
   "outputs": [],
   "source": [
    "data = torch.LongTensor(data).cuda()"
   ]
  },
  {
   "cell_type": "code",
   "execution_count": 6,
   "metadata": {},
   "outputs": [],
   "source": [
    "num_of_users = torch.max(data[:, 0]).item() + 1\n",
    "num_of_times = torch.max(data[:, 1]).item() + 1\n",
    "num_of_locs = torch.max(data[:, 2]).item() + 1"
   ]
  },
  {
   "cell_type": "code",
   "execution_count": 7,
   "metadata": {},
   "outputs": [
    {
     "name": "stdout",
     "output_type": "stream",
     "text": [
      "1000 7344 1961\n"
     ]
    }
   ],
   "source": [
    "print(num_of_users, num_of_times, num_of_locs)"
   ]
  },
  {
   "cell_type": "code",
   "execution_count": 8,
   "metadata": {},
   "outputs": [],
   "source": [
    "deepfm = DeepFM(num_of_users, num_of_times, num_of_locs, rank=4, latent_dim=64).cuda()"
   ]
  },
  {
   "cell_type": "code",
   "execution_count": 9,
   "metadata": {},
   "outputs": [],
   "source": [
    "optimizer = torch.optim.Adam(deepfm.parameters(), lr=1e-3)\n",
    "optimizer_scheduler = torch.optim.lr_scheduler.StepLR(optimizer, step_size=5, gamma=0.5)"
   ]
  },
  {
   "cell_type": "code",
   "execution_count": 10,
   "metadata": {},
   "outputs": [
    {
     "data": {
      "text/plain": [
       "427620"
      ]
     },
     "execution_count": 10,
     "metadata": {},
     "output_type": "execute_result"
    }
   ],
   "source": [
    "data.shape[0]"
   ]
  },
  {
   "cell_type": "code",
   "execution_count": 11,
   "metadata": {},
   "outputs": [
    {
     "name": "stdout",
     "output_type": "stream",
     "text": [
      "Iteration 0001, 100.0% avg_loss=3.6816\n",
      "Iteration 0002, 100.0% avg_loss=2.0612\n",
      "Iteration 0003, 100.0% avg_loss=1.5778\n",
      "Iteration 0004, 100.0% avg_loss=1.2649\n",
      "Iteration 0005, 100.0% avg_loss=1.0263\n",
      "Iteration 0006, 100.0% avg_loss=0.6580\n",
      "Iteration 0007, 100.0% avg_loss=0.5397\n",
      "Iteration 0008, 100.0% avg_loss=0.4714\n",
      "Iteration 0009, 100.0% avg_loss=0.4257\n",
      "Iteration 0010, 100.0% avg_loss=0.3963\n",
      "Iteration 0011, 100.0% avg_loss=0.2912\n",
      "Iteration 0012, 100.0% avg_loss=0.2679\n",
      "Iteration 0013, 100.0% avg_loss=0.2609\n",
      "Iteration 0014, 100.0% avg_loss=0.2554\n",
      "Iteration 0015, 100.0% avg_loss=0.2519\n",
      "Iteration 0016, 100.0% avg_loss=0.2038\n",
      "Iteration 0017, 100.0% avg_loss=0.1957\n",
      "Iteration 0018, 100.0% avg_loss=0.1936\n",
      "Iteration 0019, 100.0% avg_loss=0.1922\n",
      "Iteration 0020, 100.0% avg_loss=0.1913\n",
      "Iteration 0021, 100.0% avg_loss=0.1656\n",
      "Iteration 0022, 100.0% avg_loss=0.1631\n",
      "Iteration 0023, 100.0% avg_loss=0.1623\n",
      "Iteration 0024, 100.0% avg_loss=0.1617\n",
      "Iteration 0025, 100.0% avg_loss=0.1614\n",
      "Iteration 0026, 100.0% avg_loss=0.1475\n",
      "Iteration 0027, 100.0% avg_loss=0.1469\n",
      "Iteration 0028, 100.0% avg_loss=0.1466\n",
      "Iteration 0029, 100.0% avg_loss=0.1464\n",
      "Iteration 0030, 100.0% avg_loss=0.1461\n",
      "Iteration 0031, 100.0% avg_loss=0.1389\n",
      "Iteration 0032, 100.0% avg_loss=0.1387\n",
      "Iteration 0033, 100.0% avg_loss=0.1386\n",
      "Iteration 0034, 100.0% avg_loss=0.1385\n",
      "Iteration 0035, 100.0% avg_loss=0.1384\n",
      "Iteration 0036, 100.0% avg_loss=0.1347\n",
      "Iteration 0037, 100.0% avg_loss=0.1346\n",
      "Iteration 0038, 100.0% avg_loss=0.1345\n",
      "Iteration 0039, 100.0% avg_loss=0.1345\n",
      "Iteration 0040, 100.0% avg_loss=0.1344\n",
      "Iteration 0041, 100.0% avg_loss=0.1325\n",
      "Iteration 0042, 100.0% avg_loss=0.1325\n",
      "Iteration 0043, 100.0% avg_loss=0.1325\n",
      "Iteration 0044, 100.0% avg_loss=0.1325\n",
      "Iteration 0045, 100.0% avg_loss=0.1324\n",
      "Iteration 0046, 100.0% avg_loss=0.1315\n",
      "Iteration 0047, 100.0% avg_loss=0.1315\n",
      "Iteration 0048, 100.0% avg_loss=0.1314\n",
      "Iteration 0049, 100.0% avg_loss=0.1314\n",
      "Iteration 0050, 100.0% avg_loss=0.1314\n",
      "Iteration 0051, 100.0% avg_loss=0.1309\n",
      "Iteration 0052, 100.0% avg_loss=0.1309\n",
      "Iteration 0053, 100.0% avg_loss=0.1309\n",
      "Iteration 0054, 100.0% avg_loss=0.1309\n",
      "Iteration 0055, 100.0% avg_loss=0.1309\n",
      "Iteration 0056, 100.0% avg_loss=0.1307\n",
      "Iteration 0057, 100.0% avg_loss=0.1307\n",
      "Iteration 0058, 100.0% avg_loss=0.1307\n",
      "Iteration 0059, 100.0% avg_loss=0.1307\n",
      "Iteration 0060, 100.0% avg_loss=0.1307\n",
      "Iteration 0061, 100.0% avg_loss=0.1305\n",
      "Iteration 0062, 100.0% avg_loss=0.1305\n",
      "Iteration 0063, 100.0% avg_loss=0.1305\n",
      "Iteration 0064, 100.0% avg_loss=0.1305\n",
      "Iteration 0065, 100.0% avg_loss=0.1305\n",
      "Iteration 0066, 100.0% avg_loss=0.1305\n",
      "Iteration 0067, 100.0% avg_loss=0.1305\n",
      "Iteration 0068, 100.0% avg_loss=0.1305\n",
      "Iteration 0069, 100.0% avg_loss=0.1305\n",
      "Iteration 0070, 100.0% avg_loss=0.1305\n",
      "Iteration 0071, 100.0% avg_loss=0.1304\n",
      "Iteration 0072, 100.0% avg_loss=0.1304\n",
      "Iteration 0073, 100.0% avg_loss=0.1304\n",
      "Iteration 0074, 100.0% avg_loss=0.1304\n",
      "Iteration 0075, 100.0% avg_loss=0.1304\n",
      "Iteration 0076, 100.0% avg_loss=0.1304\n",
      "Iteration 0077, 100.0% avg_loss=0.1304\n",
      "Iteration 0078, 100.0% avg_loss=0.1304\n",
      "Iteration 0079, 100.0% avg_loss=0.1304\n",
      "Iteration 0080, 100.0% avg_loss=0.1304\n",
      "Iteration 0081, 100.0% avg_loss=0.1304\n",
      "Iteration 0082, 100.0% avg_loss=0.1304\n",
      "Iteration 0083, 100.0% avg_loss=0.1304\n",
      "Iteration 0084, 100.0% avg_loss=0.1304\n",
      "Iteration 0085, 100.0% avg_loss=0.1304\n",
      "Iteration 0086, 100.0% avg_loss=0.1304\n",
      "Iteration 0087, 100.0% avg_loss=0.1304\n",
      "Iteration 0088, 100.0% avg_loss=0.1304\n",
      "Iteration 0089, 100.0% avg_loss=0.1304\n",
      "Iteration 0090, 100.0% avg_loss=0.1304\n",
      "Iteration 0091, 100.0% avg_loss=0.1304\n",
      "Iteration 0092, 100.0% avg_loss=0.1304\n",
      "Iteration 0093, 100.0% avg_loss=0.1304\n",
      "Iteration 0094, 100.0% avg_loss=0.1304\n",
      "Iteration 0095, 100.0% avg_loss=0.1304\n",
      "Iteration 0096, 100.0% avg_loss=0.1304\n",
      "Iteration 0097, 100.0% avg_loss=0.1304\n",
      "Iteration 0098, 100.0% avg_loss=0.1304\n",
      "Iteration 0099, 100.0% avg_loss=0.1304\n",
      "Iteration 0100, 100.0% avg_loss=0.1304\n"
     ]
    }
   ],
   "source": [
    "data_size = data.shape[0]\n",
    "batch_size = 64\n",
    "\n",
    "for it in range(1, 101):\n",
    "    avg_loss = 0.0\n",
    "    optimizer_scheduler.step()\n",
    "    optimizer.zero_grad()\n",
    "    data = data[torch.randperm(data_size)]\n",
    "    \n",
    "    for i in range(0, data_size, batch_size):\n",
    "        x_u = data[i: i + batch_size, 0]\n",
    "        x_t = data[i: i + batch_size, 1]\n",
    "        y_l = data[i: i + batch_size, 2]\n",
    "        loss = deepfm(x_u, x_t, y_l)\n",
    "        loss.backward()\n",
    "        optimizer.step()\n",
    "        optimizer.zero_grad()\n",
    "        avg_loss += loss.item()\n",
    "        print('Iteration {:04d}, {:.1f}% avg_loss={:.4f}'.format(it, 100.0 * (i + batch_size) / data_size, avg_loss / (i + batch_size)), end='\\r')\n",
    "        \n",
    "    print()"
   ]
  },
  {
   "cell_type": "code",
   "execution_count": 12,
   "metadata": {},
   "outputs": [
    {
     "name": "stderr",
     "output_type": "stream",
     "text": [
      "/home/fan/anaconda3/envs/py3/lib/python3.6/site-packages/torch/serialization.py:241: UserWarning: Couldn't retrieve source code for container of type DeepFM. It won't be checked for correctness upon loading.\n",
      "  \"type \" + obj.__name__ + \". It won't be checked \"\n"
     ]
    }
   ],
   "source": [
    "torch.save(deepfm, 'deepfm_rank{}_latent{}.pytorch'.format(4, 64))"
   ]
  },
  {
   "cell_type": "code",
   "execution_count": 13,
   "metadata": {},
   "outputs": [],
   "source": [
    "data_np = data.cpu().numpy()"
   ]
  },
  {
   "cell_type": "code",
   "execution_count": 14,
   "metadata": {},
   "outputs": [],
   "source": [
    "import numpy as np"
   ]
  },
  {
   "cell_type": "code",
   "execution_count": 15,
   "metadata": {},
   "outputs": [],
   "source": [
    "test_data_u = torch.LongTensor([0] * 1000).cuda()\n",
    "test_data_t = torch.LongTensor(range(1000)).cuda()"
   ]
  },
  {
   "cell_type": "code",
   "execution_count": 16,
   "metadata": {},
   "outputs": [],
   "source": [
    "with torch.no_grad():\n",
    "    prob = deepfm.predict_prob(test_data_u, test_data_t).cpu().numpy()"
   ]
  },
  {
   "cell_type": "code",
   "execution_count": 17,
   "metadata": {},
   "outputs": [
    {
     "data": {
      "text/plain": [
       "(1000, 1961)"
      ]
     },
     "execution_count": 17,
     "metadata": {},
     "output_type": "execute_result"
    }
   ],
   "source": [
    "prob.shape"
   ]
  },
  {
   "cell_type": "code",
   "execution_count": 18,
   "metadata": {},
   "outputs": [],
   "source": [
    "max_locs = np.argmax(prob, axis=1)"
   ]
  },
  {
   "cell_type": "code",
   "execution_count": 19,
   "metadata": {},
   "outputs": [],
   "source": [
    "import matplotlib.pyplot as plt"
   ]
  },
  {
   "cell_type": "code",
   "execution_count": 20,
   "metadata": {},
   "outputs": [],
   "source": [
    "import seaborn as sns"
   ]
  },
  {
   "cell_type": "code",
   "execution_count": 25,
   "metadata": {},
   "outputs": [
    {
     "data": {
      "text/plain": [
       "<matplotlib.axes._subplots.AxesSubplot at 0x7f14de6e8e80>"
      ]
     },
     "execution_count": 25,
     "metadata": {},
     "output_type": "execute_result"
    },
    {
     "data": {
      "image/png": "[encoded data removed]",
      "text/plain": [
       "<Figure size 432x288 with 2 Axes>"
      ]
     },
     "metadata": {},
     "output_type": "display_data"
    }
   ],
   "source": [
    "sns.heatmap(prob[:, :16])"
   ]
  },
  {
   "cell_type": "code",
   "execution_count": 22,
   "metadata": {},
   "outputs": [
    {
     "data": {
      "text/plain": [
       "array([   0,    0,    0,    0,    0, 1272,    0,    1,    0,    0,    1,\n",
       "          3,  446,    0,    0,    0, 1140,   93,    0,    0,    1,    0,\n",
       "        418,    0,    2, 1571,    0,    0,    0,    1,    0,    2,    0,\n",
       "       1139,    1,    1,    0,    0,    0,    0,    0,    0,    0,    2,\n",
       "          0,    1,    0,    0,    1,    0,    0,  252,    0, 1251,    0,\n",
       "          1,    0, 1069,    2,    0,    0,    0,    2,  214,    0,  669,\n",
       "          0,    0,    0,    0,    0,    0,    0,    1,    0, 1716,    0,\n",
       "          0,    0,    0,    0,    0,    0,    1,  187,    0,    2,    0,\n",
       "          0,    0,    0,    1,    0,    0,    0,    0,  483,    0,    0,\n",
       "          0,    0,    0,    1,    0,    0,    0, 1582, 1138,    0,    0,\n",
       "          1,    0,    0,    0,    1, 1108,    0,    2,    3,    0,    0,\n",
       "          1,    0,    0,    0,    2,    0,    0,    0,    0,    0,    1,\n",
       "          0,    0,    0,    0,    0,    0,  267,    1,    0,    1,    2,\n",
       "          0,    1,    0,  978,    0,    0,    0,    0,    0,    1,    0,\n",
       "          0,    0,    0,    0,    0, 1648,    0,    0, 1475, 1400,    1,\n",
       "          0, 1251, 1766,    0,    1,    2,  541,  978,  109,    0,    0,\n",
       "          1, 1164,  260,    0,  267,    0,    0,    0, 1079,    1,    0,\n",
       "          0,    0,    1, 1847,    1,    0,    0,    0,    0,    0,    7,\n",
       "          0,    0,    0,    1,  862,    0,    0,    0,  187,    0,    0,\n",
       "        784,  382,  574,    2,    0,    0,    0,    2,    2,    0,    0,\n",
       "          0,  852,    2,    3,    0,    0,    3,    0,    0,    0, 1912,\n",
       "          1,    0,    0, 1076,    0,    0,  974,    0,    0,    0,    0,\n",
       "          0,    1,    0,    0,    0,    2,    0,    0,    0,    0,    0,\n",
       "          0, 1345, 1093,    0,    1,    0,    1,  129,    0,    0,    0,\n",
       "          0,    0,  446,    0,    0,    0,    0,    0,    0, 1351,    0,\n",
       "          0, 1776,    0,    0,    1,    0,    0,    0,    1,    0,    0,\n",
       "       1571,    0,    0,  493,    0, 1091, 1323, 1576,    0,    0,    0,\n",
       "          0,    0,    0, 1778,    0,    0,    0,    0,    0,    0,    2,\n",
       "          1, 1079,    1,  821,    0,    0,    0, 1251, 1345,    0, 1538,\n",
       "          0,    0,    0,    0,    0, 1263,    0,    3,    0,    0,  754,\n",
       "          0,    0,    0,  137,    0,    0,    2,    0,    0,    1, 1525,\n",
       "          0,    0,    0,    0, 1314, 1143,    0,  787,    0,    0,    0,\n",
       "          0,    0,    0,    0,    0,    0,    0,    0,    0,    0,    0,\n",
       "          0,    0,    1,    0,    0,    0,    0,    0,    0,    0,    0,\n",
       "          0,  541,    1,    0,    0,    1, 1333,  282,    2,   39,    0,\n",
       "          0,    1,    0,    0,    2,    0,    0,  491,    3,    0,    0,\n",
       "          0,    0,    0,    0,    0,    0,    0,  485,    0,    0,    0,\n",
       "          0,    0,    0,    0,    0,    0,    0,    0,    0,    0,    0,\n",
       "          0,    0,    0, 1079, 1538,    0,    0,    3,    0,    0,    2,\n",
       "        214,  497,  484,    0,    1,    0,    0,    0,    0,    0,    0,\n",
       "        669,    2,    0,    0, 1578,    0,    0,    0,    0,    0,    0,\n",
       "          0,    0,    0, 1251,    0,    0,    0,   90,  257, 1611,    0,\n",
       "          0,    0,    0,    0,    0,  497,    0,    0,    0,    0,    0,\n",
       "          0,    2,    0,    0,    0, 1847,    0,    0,    1,    0,   44,\n",
       "          0,    0,  469,  179,    0,    0,    0,    0,    1,    0,  267,\n",
       "        258,    0,    0,    0,    0,    0,    0,    0,    0,    0,    0,\n",
       "        501,  282,    0,    0,    0,    0,    0,    0,    0,  944,    0,\n",
       "         14,    2, 1014,    0,    0,    1,    0,    0,  260,    0,    0,\n",
       "          0,  787,    0,    0,    3,    0,    0,    0,    0,    2,    0,\n",
       "          0,    0,    0,    1,    0,    0,    0,    0,  816,    0,    0,\n",
       "          1,    0,    0,  204,    0,    0,    0,    1,    0, 1277,    0,\n",
       "          0, 1400,  267,    1,    0,    0,    0, 1378,    0,    0,    0,\n",
       "          0, 1720,    1,  839,    0,    0,    0,    0,    0,  139,    0,\n",
       "          0,    0,    0,    0,    0,    2,  974, 1240,    0,    1,    0,\n",
       "          0,  124,    0,    0,    0,    0,    0,    0, 1478,    0,    0,\n",
       "          0,    0,    0,    0,    0,    0,    0,    0,    0,    0,    1,\n",
       "          2,    0,    0,  419,    1,    0,    0,    0,    0,    0,    0,\n",
       "          1, 1776,    0,    0,    0,    0,    0,    0,  787,    0,    0,\n",
       "          0,    0,    0,    0,    0,    0,  267,    0,  723,    0,    0,\n",
       "          0,    0,    0,    0,    0,    0,    0,    0,    0,    0, 1847,\n",
       "        787, 1014,    0,    0,    0,  162,    1,    0, 1093,    0,    0,\n",
       "          2,    0,    0,    0,    0,    0,    0, 1200,    0,    0,    0,\n",
       "          0, 1538,  309,    2,    0,    0,    0, 1571,    2,    0,    0,\n",
       "          1,    0,    0,  974,    0,    0,  269,  124,    0,    0,    0,\n",
       "          0,    0,  308, 1003,  215,  118,    0, 1417,    0,    0,    0,\n",
       "          0, 1538,    0,    1,    0,    0,    0,    0, 1412,    0,    0,\n",
       "          1,    0,    0,  781,    0, 1478,    0, 1235,    0,  789, 1543,\n",
       "          0,    0,    0,    0,    0,    1,    0,  255,    0,    0,    0,\n",
       "          0,    0,    0,    0, 1102,    0,  252,    0,    0,    0,    0,\n",
       "       1037,    0,    0,    0,  321,    0,    0,    0,    1,    0,    0,\n",
       "       1002,    0, 1611,  184,   39,    0,    0,    0, 1879,    0,    2,\n",
       "          1,    0,    0,    0,    0,    0,    0,    0,    0,    0,    0,\n",
       "          1,    0,    1,  849,    0,  497,    0,    0,    0,    0,    0,\n",
       "        657,    0,    0,    1,    0,    0,    1,    0,  419,    0,    0,\n",
       "          2,    0,    0,    0,    0,  205,    1, 1003,    0,    0,  511,\n",
       "          0,    0,    2,    0,    0, 1703,    0,    1,   59,    0,  254,\n",
       "          2,    2,    0,    0,    0,    0,   26,    0,    0,    0,    0,\n",
       "          0,    0,    0,    0, 1297,    1,    1,    0,    0,    0,  135,\n",
       "          0,    0,    1,  101,    2,    0, 1255,    0,    0, 1327, 1251,\n",
       "          0,    0,    0,    0,    0,    0,    0,    0,    2, 1270,  219,\n",
       "          2,    0,  153,    0,    0,  781, 1766,    0,  744,    0,    1,\n",
       "       1760,    0,  187,    0,    0, 1105,    0,    0,    1,    0, 1648,\n",
       "         27,  206,    0,  780, 1505,    0,    0,    0,    1,    0,    0,\n",
       "          0,    0,    1, 1096,    0,  491, 1277,    0,    0, 1400,    0,\n",
       "          0,    0,    0,    0,    0,  839,    0,    0,    0,    0,    0,\n",
       "       1562,  443, 1928,    0,  781,    0,    7, 1323,    0,    0, 1270,\n",
       "       1571, 1446,    0,    0,    0,    0,    1,    0,    0,    0,    0,\n",
       "          0,    0,    1,    0,    0,    0,  849,    0,  839,    0,   23,\n",
       "          0,    0,    0,  720,    0, 1533,    0,    0,    0,    0,    0,\n",
       "          0,    0,   40,    0,    0,    0,    0,    2,    2,    0,    2,\n",
       "       1235,    0,    0,    0,    1,    1,    0,    2,    0,    1])"
      ]
     },
     "execution_count": 22,
     "metadata": {},
     "output_type": "execute_result"
    }
   ],
   "source": [
    "max_locs"
   ]
  },
  {
   "cell_type": "code",
   "execution_count": 33,
   "metadata": {},
   "outputs": [
    {
     "data": {
      "text/plain": [
       "array([[   0, 4777,    0],\n",
       "       [   0, 6513,    0],\n",
       "       [   0, 6514,    0],\n",
       "       [   0, 1453,    0],\n",
       "       [   0, 4824,    2],\n",
       "       [   0, 5456,    2],\n",
       "       [   0, 1437,    0],\n",
       "       [   0, 1747,    1],\n",
       "       [   0, 4930,    0],\n",
       "       [   0, 2268,    0],\n",
       "       [   0, 5458,    0],\n",
       "       [   0, 5357,    0],\n",
       "       [   0, 2632,    0],\n",
       "       [   0, 7085,    2],\n",
       "       [   0, 4931,    0],\n",
       "       [   0, 1653,    1],\n",
       "       [   0,  566,    0],\n",
       "       [   0,  271,    0],\n",
       "       [   0, 4743,    0],\n",
       "       [   0, 6512,    0],\n",
       "       [   0,  694,    0],\n",
       "       [   0, 4916,    0],\n",
       "       [   0, 7265,    0],\n",
       "       [   0, 4747,    0],\n",
       "       [   0,  424,    0],\n",
       "       [   0,  566,    1],\n",
       "       [   0, 1749,    0],\n",
       "       [   0, 7083,    0],\n",
       "       [   0, 5269,    0],\n",
       "       [   0,  837,    2],\n",
       "       [   0, 1910,    0],\n",
       "       [   0, 2201,    0],\n",
       "       [   0, 6312,    0],\n",
       "       [   0, 1374,    0],\n",
       "       [   0, 1747,    1],\n",
       "       [   0, 1765,    3],\n",
       "       [   0, 1381,    0],\n",
       "       [   0, 1941,    0],\n",
       "       [   0, 2821,    0],\n",
       "       [   0,  317,    0],\n",
       "       [   0, 4922,    1],\n",
       "       [   0, 6525,    0],\n",
       "       [   0, 6312,    0],\n",
       "       [   0, 1941,    0],\n",
       "       [   0, 2248,    0],\n",
       "       [   0, 1276,    1],\n",
       "       [   0, 4767,    0],\n",
       "       [   0, 1941,    0],\n",
       "       [   0, 7076,    0],\n",
       "       [   0, 7269,    2],\n",
       "       [   0, 2401,    1],\n",
       "       [   0, 4816,    0],\n",
       "       [   0, 2247,    0],\n",
       "       [   0, 4743,    1],\n",
       "       [   0, 1367,    3],\n",
       "       [   0, 4747,    0],\n",
       "       [   0, 2127,    0],\n",
       "       [   0, 1453,    0],\n",
       "       [   0, 1563,    2],\n",
       "       [   0, 1568,    0],\n",
       "       [   0, 7282,    3],\n",
       "       [   0, 1383,    2],\n",
       "       [   0, 6320,    0],\n",
       "       [   0, 4820,    0],\n",
       "       [   0, 4929,    0],\n",
       "       [   0,  504,    0],\n",
       "       [   0,  342,    0],\n",
       "       [   0, 4549,    0],\n",
       "       [   0, 4730,    2],\n",
       "       [   0, 5926,    0],\n",
       "       [   0, 1575,    0],\n",
       "       [   0, 2895,    0],\n",
       "       [   0,   30,    0],\n",
       "       [   0, 5597,    0],\n",
       "       [   0, 7147,    0],\n",
       "       [   0, 5600,    0],\n",
       "       [   0, 4455,    0],\n",
       "       [   0, 2130,    2],\n",
       "       [   0, 6037,    0],\n",
       "       [   0,  504,    0],\n",
       "       [   0, 2627,    1],\n",
       "       [   0, 1756,    0],\n",
       "       [   0,  520,    0],\n",
       "       [   0, 2821,    0],\n",
       "       [   0, 5921,    0],\n",
       "       [   0, 5296,    0],\n",
       "       [   0, 4723,    2],\n",
       "       [   0, 4830,    2],\n",
       "       [   0, 2627,    1],\n",
       "       [   0,  617,    0],\n",
       "       [   0, 5356,    1],\n",
       "       [   0, 5223,    1],\n",
       "       [   0, 6468,    3],\n",
       "       [   0, 4768,    0],\n",
       "       [   0, 5447,    1],\n",
       "       [   0, 5512,    3],\n",
       "       [   0, 2898,    0],\n",
       "       [   0, 4931,    0],\n",
       "       [   0, 6312,    0],\n",
       "       [   0, 1746,    1],\n",
       "       [   0, 1941,    0],\n",
       "       [   0, 4737,    0],\n",
       "       [   0,  654,    0],\n",
       "       [   0,  128,    0],\n",
       "       [   0, 4528,    0],\n",
       "       [   0, 2895,    0]])"
      ]
     },
     "execution_count": 33,
     "metadata": {},
     "output_type": "execute_result"
    }
   ],
   "source": [
    "data_np[np.where(data_np[:, 0] == 0)]"
   ]
  },
  {
   "cell_type": "code",
   "execution_count": null,
   "metadata": {},
   "outputs": [],
   "source": []
  }
 ],
 "metadata": {
  "kernelspec": {
   "display_name": "Conda Py3",
   "language": "python",
   "name": "py3"
  },
  "language_info": {
   "codemirror_mode": {
    "name": "ipython",
    "version": 3
   },
   "file_extension": ".py",
   "mimetype": "text/x-python",
   "name": "python",
   "nbconvert_exporter": "python",
   "pygments_lexer": "ipython3",
   "version": "3.6.5"
  }
 },
 "nbformat": 4,
 "nbformat_minor": 2
}
