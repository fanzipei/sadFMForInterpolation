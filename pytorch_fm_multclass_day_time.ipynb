{
 "cells": [
  {
   "cell_type": "code",
   "execution_count": 1,
   "metadata": {},
   "outputs": [],
   "source": [
    "from model import DeepFMDayTime"
   ]
  },
  {
   "cell_type": "code",
   "execution_count": 2,
   "metadata": {},
   "outputs": [],
   "source": [
    "import torch\n",
    "import torch.nn as nn"
   ]
  },
  {
   "cell_type": "code",
   "execution_count": 3,
   "metadata": {},
   "outputs": [],
   "source": [
    "import pickle as pk"
   ]
  },
  {
   "cell_type": "code",
   "execution_count": 4,
   "metadata": {},
   "outputs": [],
   "source": [
    "data = pk.load(open('./data_train.pk', 'rb'))"
   ]
  },
  {
   "cell_type": "code",
   "execution_count": 5,
   "metadata": {},
   "outputs": [],
   "source": [
    "data = torch.LongTensor(data).cuda(1)"
   ]
  },
  {
   "cell_type": "code",
   "execution_count": 16,
   "metadata": {},
   "outputs": [],
   "source": [
    "rank = 2\n",
    "latent_dim = 8"
   ]
  },
  {
   "cell_type": "code",
   "execution_count": 6,
   "metadata": {},
   "outputs": [],
   "source": [
    "num_of_users = torch.max(data[:, 0]).item() + 1\n",
    "num_of_locs = torch.max(data[:, 2]).item() + 1\n",
    "num_of_tofd = 48\n",
    "num_of_days = 7344 // 48"
   ]
  },
  {
   "cell_type": "code",
   "execution_count": 11,
   "metadata": {},
   "outputs": [],
   "source": [
    "deepfm = DeepFMDayTime(num_of_users, num_of_tofd, num_of_days, num_of_locs, rank=rank, latent_dim=latent_dim).cuda(1)"
   ]
  },
  {
   "cell_type": "code",
   "execution_count": 12,
   "metadata": {},
   "outputs": [],
   "source": [
    "optimizer = torch.optim.Adam(deepfm.parameters(), lr=1e-3)\n",
    "optimizer_scheduler = torch.optim.lr_scheduler.StepLR(optimizer, step_size=5, gamma=0.5)"
   ]
  },
  {
   "cell_type": "code",
   "execution_count": 13,
   "metadata": {},
   "outputs": [],
   "source": [
    "data_test = pk.load(open('./data_test.pk', 'rb'))\n",
    "data_test = torch.LongTensor(data_test).cuda(1)"
   ]
  },
  {
   "cell_type": "code",
   "execution_count": 14,
   "metadata": {
    "collapsed": true
   },
   "outputs": [
    {
     "name": "stdout",
     "output_type": "stream",
     "text": [
      "Iteration 0001, 100.0% avg_loss=5.4712\n",
      "val_avg_loss = 0.8111\n",
      "Iteration 0002, 100.0% avg_loss=2.4766\n",
      "val_avg_loss = 0.5513\n",
      "Iteration 0003, 100.0% avg_loss=2.0021\n",
      "val_avg_loss = 0.5053\n",
      "Iteration 0004, 100.0% avg_loss=1.8505\n",
      "val_avg_loss = 0.487\n",
      "Iteration 0005, 100.0% avg_loss=1.7658\n",
      "val_avg_loss = 0.475\n",
      "Iteration 0006, 100.0% avg_loss=1.6445\n",
      "val_avg_loss = 0.4598\n",
      "Iteration 0007, 100.0% avg_loss=1.6105\n",
      "val_avg_loss = 0.4574\n",
      "Iteration 0008, 100.0% avg_loss=1.5851\n",
      "val_avg_loss = 0.4553\n",
      "Iteration 0009, 100.0% avg_loss=1.5638\n",
      "val_avg_loss = 0.4537\n",
      "Iteration 0010, 100.0% avg_loss=1.5452\n",
      "val_avg_loss = 0.4519\n",
      "Iteration 0011, 100.0% avg_loss=1.4892\n",
      "val_avg_loss = 0.4469\n",
      "Iteration 0012, 100.0% avg_loss=1.4753\n",
      "val_avg_loss = 0.4476\n",
      "Iteration 0013, 100.0% avg_loss=1.4659\n",
      "val_avg_loss = 0.4459\n",
      "Iteration 0014, 100.0% avg_loss=1.4572\n",
      "val_avg_loss = 0.4466\n",
      "Iteration 0015, 29.1% avg_loss=1.4333\r"
     ]
    },
    {
     "ename": "KeyboardInterrupt",
     "evalue": "",
     "output_type": "error",
     "traceback": [
      "\u001b[0;31m---------------------------------------------------------------------------\u001b[0m",
      "\u001b[0;31mKeyboardInterrupt\u001b[0m                         Traceback (most recent call last)",
      "\u001b[0;32m<ipython-input-14-3f363a3243c4>\u001b[0m in \u001b[0;36m<module>\u001b[0;34m()\u001b[0m\n\u001b[1;32m     16\u001b[0m         \u001b[0mloss\u001b[0m \u001b[0;34m=\u001b[0m \u001b[0mdeepfm\u001b[0m\u001b[0;34m(\u001b[0m\u001b[0mx_u\u001b[0m\u001b[0;34m,\u001b[0m \u001b[0mx_d\u001b[0m\u001b[0;34m,\u001b[0m \u001b[0mx_t\u001b[0m\u001b[0;34m,\u001b[0m \u001b[0my_l\u001b[0m\u001b[0;34m)\u001b[0m\u001b[0;34m\u001b[0m\u001b[0m\n\u001b[1;32m     17\u001b[0m         \u001b[0mloss\u001b[0m\u001b[0;34m.\u001b[0m\u001b[0mbackward\u001b[0m\u001b[0;34m(\u001b[0m\u001b[0;34m)\u001b[0m\u001b[0;34m\u001b[0m\u001b[0m\n\u001b[0;32m---> 18\u001b[0;31m         \u001b[0moptimizer\u001b[0m\u001b[0;34m.\u001b[0m\u001b[0mstep\u001b[0m\u001b[0;34m(\u001b[0m\u001b[0;34m)\u001b[0m\u001b[0;34m\u001b[0m\u001b[0m\n\u001b[0m\u001b[1;32m     19\u001b[0m         \u001b[0moptimizer\u001b[0m\u001b[0;34m.\u001b[0m\u001b[0mzero_grad\u001b[0m\u001b[0;34m(\u001b[0m\u001b[0;34m)\u001b[0m\u001b[0;34m\u001b[0m\u001b[0m\n\u001b[1;32m     20\u001b[0m         \u001b[0mavg_loss\u001b[0m \u001b[0;34m+=\u001b[0m \u001b[0mloss\u001b[0m\u001b[0;34m.\u001b[0m\u001b[0mitem\u001b[0m\u001b[0;34m(\u001b[0m\u001b[0;34m)\u001b[0m\u001b[0;34m\u001b[0m\u001b[0m\n",
      "\u001b[0;32m~/anaconda3/envs/py3/lib/python3.6/site-packages/torch/optim/adam.py\u001b[0m in \u001b[0;36mstep\u001b[0;34m(self, closure)\u001b[0m\n\u001b[1;32m    101\u001b[0m \u001b[0;34m\u001b[0m\u001b[0m\n\u001b[1;32m    102\u001b[0m                 \u001b[0mbias_correction1\u001b[0m \u001b[0;34m=\u001b[0m \u001b[0;36m1\u001b[0m \u001b[0;34m-\u001b[0m \u001b[0mbeta1\u001b[0m \u001b[0;34m**\u001b[0m \u001b[0mstate\u001b[0m\u001b[0;34m[\u001b[0m\u001b[0;34m'step'\u001b[0m\u001b[0;34m]\u001b[0m\u001b[0;34m\u001b[0m\u001b[0m\n\u001b[0;32m--> 103\u001b[0;31m                 \u001b[0mbias_correction2\u001b[0m \u001b[0;34m=\u001b[0m \u001b[0;36m1\u001b[0m \u001b[0;34m-\u001b[0m \u001b[0mbeta2\u001b[0m \u001b[0;34m**\u001b[0m \u001b[0mstate\u001b[0m\u001b[0;34m[\u001b[0m\u001b[0;34m'step'\u001b[0m\u001b[0;34m]\u001b[0m\u001b[0;34m\u001b[0m\u001b[0m\n\u001b[0m\u001b[1;32m    104\u001b[0m                 \u001b[0mstep_size\u001b[0m \u001b[0;34m=\u001b[0m \u001b[0mgroup\u001b[0m\u001b[0;34m[\u001b[0m\u001b[0;34m'lr'\u001b[0m\u001b[0;34m]\u001b[0m \u001b[0;34m*\u001b[0m \u001b[0mmath\u001b[0m\u001b[0;34m.\u001b[0m\u001b[0msqrt\u001b[0m\u001b[0;34m(\u001b[0m\u001b[0mbias_correction2\u001b[0m\u001b[0;34m)\u001b[0m \u001b[0;34m/\u001b[0m \u001b[0mbias_correction1\u001b[0m\u001b[0;34m\u001b[0m\u001b[0m\n\u001b[1;32m    105\u001b[0m \u001b[0;34m\u001b[0m\u001b[0m\n",
      "\u001b[0;31mKeyboardInterrupt\u001b[0m: "
     ]
    }
   ],
   "source": [
    "data_size = data.shape[0]\n",
    "batch_size = 64\n",
    "\n",
    "for it in range(1, 101):\n",
    "    avg_loss = 0.0\n",
    "    optimizer_scheduler.step()\n",
    "    optimizer.zero_grad()\n",
    "    data = data[torch.randperm(data_size)]\n",
    "    \n",
    "    for i in range(0, data_size, batch_size):\n",
    "        x_u = data[i: i + batch_size, 0]\n",
    "        x_dt = data[i: i + batch_size, 1]\n",
    "        x_t = x_dt % num_of_tofd\n",
    "        x_d = x_dt // num_of_tofd\n",
    "        y_l = data[i: i + batch_size, 2]\n",
    "        loss = deepfm(x_u, x_d, x_t, y_l)\n",
    "        loss.backward()\n",
    "        optimizer.step()\n",
    "        optimizer.zero_grad()\n",
    "        avg_loss += loss.item()\n",
    "        print('Iteration {:04d}, {:.1f}% avg_loss={:.4f}'.format(it, 100.0 * (i + batch_size) / data_size, avg_loss / (i + batch_size)), end='\\r')\n",
    "        \n",
    "    avg_loss = 0.0\n",
    "\n",
    "    with torch.no_grad():\n",
    "        for i in range(0, data_test.shape[0], 256):\n",
    "            x_u = data_test[i: i + batch_size, 0]\n",
    "            x_dt = data_test[i: i + batch_size, 1]\n",
    "            x_t = x_dt % num_of_tofd\n",
    "            x_d = x_dt // num_of_tofd\n",
    "            y_l = data_test[i: i + batch_size, 2]\n",
    "            avg_loss += deepfm(x_u, x_d, x_t, y_l).item()\n",
    "            \n",
    "    print()\n",
    "    print('val_avg_loss = {:.4}'.format(avg_loss / data_test.shape[0]))"
   ]
  },
  {
   "cell_type": "code",
   "execution_count": 15,
   "metadata": {},
   "outputs": [],
   "source": [
    "torch.save(deepfm, 'deepfm_day_time_rank{}_latent{}.pytorch'.format(2, 8))"
   ]
  },
  {
   "cell_type": "code",
   "execution_count": null,
   "metadata": {},
   "outputs": [],
   "source": []
  }
 ],
 "metadata": {
  "kernelspec": {
   "display_name": "Conda Py3",
   "language": "python",
   "name": "py3"
  },
  "language_info": {
   "codemirror_mode": {
    "name": "ipython",
    "version": 3
   },
   "file_extension": ".py",
   "mimetype": "text/x-python",
   "name": "python",
   "nbconvert_exporter": "python",
   "pygments_lexer": "ipython3",
   "version": "3.6.5"
  }
 },
 "nbformat": 4,
 "nbformat_minor": 2
}
